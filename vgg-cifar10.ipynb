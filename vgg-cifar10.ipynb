{
 "cells": [
  {
   "cell_type": "code",
   "execution_count": 1,
   "source": [
    "%matplotlib inline\r\n",
    "import torch as t\r\n",
    "import numpy as np\r\n",
    "import matplotlib.pyplot as plt\r\n",
    "import torch.nn as nn\r\n",
    "import torch.optim as optim\r\n",
    "import torch.nn.functional as F"
   ],
   "outputs": [],
   "metadata": {}
  },
  {
   "cell_type": "code",
   "execution_count": 2,
   "source": [
    "import os"
   ],
   "outputs": [],
   "metadata": {}
  },
  {
   "cell_type": "code",
   "execution_count": 3,
   "source": [
    "import torchvision.transforms as transforms\r\n",
    "from torchvision.transforms import ToPILImage\r\n",
    "show = ToPILImage()"
   ],
   "outputs": [],
   "metadata": {}
  },
  {
   "cell_type": "code",
   "execution_count": 4,
   "source": [
    "import torchvision as tv"
   ],
   "outputs": [],
   "metadata": {}
  },
  {
   "cell_type": "code",
   "execution_count": 6,
   "source": [
    "# import os\r\n",
    "for dirname, _, filenames in os.walk('/pytorch/Data/cifar-10-batches-py'):\r\n",
    "    for filename in filenames:\r\n",
    "        print(os.path.join(dirname, filename))\r\n",
    "        # print(filename)"
   ],
   "outputs": [
    {
     "output_type": "stream",
     "name": "stdout",
     "text": [
      "/pytorch/Data/cifar-10-batches-py\\batches.meta\n",
      "/pytorch/Data/cifar-10-batches-py\\data_batch_1\n",
      "/pytorch/Data/cifar-10-batches-py\\data_batch_2\n",
      "/pytorch/Data/cifar-10-batches-py\\data_batch_3\n",
      "/pytorch/Data/cifar-10-batches-py\\data_batch_4\n",
      "/pytorch/Data/cifar-10-batches-py\\data_batch_5\n",
      "/pytorch/Data/cifar-10-batches-py\\readme.html\n",
      "/pytorch/Data/cifar-10-batches-py\\test_batch\n"
     ]
    }
   ],
   "metadata": {}
  },
  {
   "cell_type": "code",
   "execution_count": 9,
   "source": [
    "# 加载数据\r\n",
    "\r\n",
    "# 数据预处理\r\n",
    "transform = transforms.Compose([\r\n",
    "    transforms.ToTensor(),\r\n",
    "    transforms.Normalize((0.5, 0.5, 0.5), (0.5, 0.5, 0.5))\r\n",
    "])\r\n",
    "\r\n",
    "# 加载训练集\r\n",
    "trainset = tv.datasets.CIFAR10(\r\n",
    "    train=True,\r\n",
    "    download=False,\r\n",
    "    root='/pytorch/Data/',\r\n",
    "    transform=transform\r\n",
    ")\r\n",
    "\r\n",
    "trainloader = t.utils.data.DataLoader(\r\n",
    "    trainset,\r\n",
    "    shuffle=True,\r\n",
    "    batch_size=8,\r\n",
    "    num_workers=8  # 提高GPU使用率\r\n",
    ")\r\n",
    "\r\n",
    "# 加载测试集\r\n",
    "testset = tv.datasets.CIFAR10(\r\n",
    "    train=False,\r\n",
    "    download=False,\r\n",
    "    root='/pytorch/Data/',\r\n",
    "    transform=transform\r\n",
    ")\r\n",
    "\r\n",
    "testloader = t.utils.data.DataLoader(\r\n",
    "    testset,\r\n",
    "    shuffle=True,\r\n",
    "    batch_size=8,\r\n",
    "    num_workers=8  # 提高GPU使用率\r\n",
    ")\r\n"
   ],
   "outputs": [],
   "metadata": {}
  },
  {
   "cell_type": "code",
   "execution_count": 13,
   "source": [
    "classes = np.array(['plane', 'car', 'bird', 'cat', 'deer', 'dog', 'frog', 'horse', 'ship', 'truck'])"
   ],
   "outputs": [],
   "metadata": {}
  },
  {
   "cell_type": "code",
   "execution_count": 10,
   "source": [
    "trainiter = iter(trainloader)\r\n",
    "imgs, labels = trainiter.next()"
   ],
   "outputs": [],
   "metadata": {}
  },
  {
   "cell_type": "code",
   "execution_count": 11,
   "source": [
    "print(imgs.size(), labels.size())"
   ],
   "outputs": [
    {
     "output_type": "stream",
     "name": "stdout",
     "text": [
      "torch.Size([8, 3, 32, 32]) torch.Size([8])\n"
     ]
    }
   ],
   "metadata": {}
  },
  {
   "cell_type": "code",
   "execution_count": 12,
   "source": [
    "print(len(trainset))"
   ],
   "outputs": [
    {
     "output_type": "stream",
     "name": "stdout",
     "text": [
      "50000\n"
     ]
    }
   ],
   "metadata": {}
  },
  {
   "cell_type": "code",
   "execution_count": 14,
   "source": [
    "print(classes[labels])"
   ],
   "outputs": [
    {
     "output_type": "stream",
     "name": "stdout",
     "text": [
      "['ship' 'frog' 'horse' 'truck' 'horse' 'frog' 'horse' 'plane']\n"
     ]
    }
   ],
   "metadata": {}
  },
  {
   "cell_type": "code",
   "execution_count": 16,
   "source": [
    "img1 = imgs[0]\r\n",
    "print(classes[labels[0]])\r\n",
    "show((img1+1) / 2).resize((100, 100))"
   ],
   "outputs": [
    {
     "output_type": "stream",
     "name": "stdout",
     "text": [
      "ship\n"
     ]
    },
    {
     "output_type": "execute_result",
     "data": {
      "text/plain": [
       "<PIL.Image.Image image mode=RGB size=100x100 at 0x161B024E9A0>"
      ],
      "image/png": "[encoded data removed]"
     },
     "metadata": {},
     "execution_count": 16
    }
   ],
   "metadata": {}
  },
  {
   "cell_type": "code",
   "execution_count": 5,
   "source": [
    "# 定义网络\r\n",
    "cfg = {\r\n",
    "    'VGG11': [64, 'M', 128, 'M', 256, 256, 'M', 512, 512, 'M', 512, 512, 'M'],\r\n",
    "    'VGG13': [64, 64, 'M', 128, 128, 'M', 256, 256, 'M', 512, 512, 'M', 512, 512, 'M'],\r\n",
    "    'VGG16': [64, 64, 'M', 128, 128, 'M', 256, 256, 256, 'M', 512, 512, 512, 'M', 512, 512, 512, 'M'],\r\n",
    "    'VGG19': [64, 64, 'M', 128, 128, 'M', 256, 256, 256, 256, 'M', 512, 512, 512, 512, 'M', 512, 512, 512, 512, 'M'],\r\n",
    "}\r\n",
    "\r\n",
    "\r\n",
    "class VGG(nn.Module):\r\n",
    "    def __init__(self, vgg_name):\r\n",
    "        super(VGG, self).__init__()\r\n",
    "        self.features = self._make_layers(cfg[vgg_name])\r\n",
    "        self.classifier = nn.Linear(512, 10)\r\n",
    "\r\n",
    "    def forward(self, x):\r\n",
    "        out = self.features(x)\r\n",
    "        out = out.view(out.size(0), -1)\r\n",
    "        out = self.classifier(out)\r\n",
    "        return out\r\n",
    "\r\n",
    "    def _make_layers(self, cfg):\r\n",
    "        layers = []\r\n",
    "        in_channels = 3\r\n",
    "        for x in cfg:\r\n",
    "            if x == 'M':\r\n",
    "                layers += [nn.MaxPool2d(kernel_size=2, stride=2)]\r\n",
    "            else:\r\n",
    "                layers += [nn.Conv2d(in_channels, x, kernel_size=3, padding=1),\r\n",
    "                           nn.BatchNorm2d(x),\r\n",
    "                           nn.ReLU(inplace=True)]\r\n",
    "                in_channels = x\r\n",
    "        layers += [nn.AvgPool2d(kernel_size=1, stride=1)]\r\n",
    "        return nn.Sequential(*layers)\r\n",
    "\r\n",
    "\r\n",
    "def VGG11():\r\n",
    "    return VGG('VGG11')\r\n",
    "\r\n",
    "\r\n",
    "def VGG13():\r\n",
    "    return VGG('VGG13')\r\n",
    "\r\n",
    "\r\n",
    "def VGG16():\r\n",
    "    return VGG('VGG16')\r\n",
    "\r\n",
    "\r\n",
    "def VGG19():\r\n",
    "    return VGG('VGG19')"
   ],
   "outputs": [],
   "metadata": {}
  },
  {
   "cell_type": "code",
   "execution_count": 6,
   "source": [
    "list_net = [VGG11(), VGG13()]"
   ],
   "outputs": [],
   "metadata": {}
  },
  {
   "cell_type": "code",
   "execution_count": null,
   "source": [
    "for list_net"
   ],
   "outputs": [],
   "metadata": {}
  }
 ],
 "metadata": {
  "orig_nbformat": 4,
  "language_info": {
   "name": "python",
   "version": "3.8.8",
   "mimetype": "text/x-python",
   "codemirror_mode": {
    "name": "ipython",
    "version": 3
   },
   "pygments_lexer": "ipython3",
   "nbconvert_exporter": "python",
   "file_extension": ".py"
  },
  "kernelspec": {
   "name": "python3",
   "display_name": "Python 3.8.8 64-bit ('pytorch_cpu': conda)"
  },
  "interpreter": {
   "hash": "7fa5d7ec9f27175d709e2c1ddf4962d4d7dc83790d94cc00d3dd9b91a95713ef"
  }
 },
 "nbformat": 4,
 "nbformat_minor": 2
}